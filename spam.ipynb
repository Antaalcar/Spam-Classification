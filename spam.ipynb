{
 "cells": [
  {
   "cell_type": "code",
   "execution_count": 1,
   "id": "ff962f57",
   "metadata": {},
   "outputs": [],
   "source": [
    "import numpy as np \n",
    "import pandas as pd \n",
    "import nltk\n",
    "from nltk.corpus import stopwords\n",
    "import string\n",
    "import re"
   ]
  },
  {
   "cell_type": "markdown",
   "id": "c4a06f72",
   "metadata": {},
   "source": [
    "Load and filter SpamAssasin dataset\n",
    "(link: https://www.kaggle.com/datasets/veleon/ham-and-spam-dataset)"
   ]
  },
  {
   "cell_type": "code",
   "execution_count": 2,
   "id": "cd0d6ef7",
   "metadata": {},
   "outputs": [],
   "source": [
    "def get_body(mail):\n",
    "    if mail.is_multipart():\n",
    "        for part in mail.get_payload():\n",
    "            if part.is_multipart():\n",
    "                return get_body(part)\n",
    "            body = part.get_payload()\n",
    "            if part.get_content_type() == \"text/plain\":\n",
    "                return body\n",
    "    else:\n",
    "        return mail.get_payload()"
   ]
  },
  {
   "cell_type": "code",
   "execution_count": 3,
   "id": "37a4f53a",
   "metadata": {},
   "outputs": [],
   "source": [
    "import os\n",
    "import email\n",
    "hams_l = os.listdir('./hamnspam/ham')\n",
    "hams = []\n",
    "subjects = []\n",
    "for f in hams_l:\n",
    "    raw_mail = open(f'./hamnspam/ham/{f}', 'r').read()\n",
    "    mail = email.message_from_string(raw_mail)\n",
    "#     text = mail.get_payload()\n",
    "    text = get_body(mail)\n",
    "    text = text.lower()\n",
    "    for c in string.punctuation+'0123456789\\n':\n",
    "        text = text.replace(c, ' ')\n",
    "    for w in stopwords.words('english'):\n",
    "        text = text.replace(' '+w+' ', ' ')\n",
    "    tokens = re.split(' +', text)\n",
    "    while '' in tokens:\n",
    "        tokens.pop(tokens.index(''))\n",
    "    hams.append(' '.join(tokens))\n",
    "    text = re.search('Subject: *(\\[.*\\])* *(R[eE]:)* *(\\[.*\\])* *(.*)\\n', raw_mail).groups()[-1]\n",
    "    text = text.lower()\n",
    "    for c in string.punctuation+'0123456789\\n':\n",
    "        text = text.replace(c, ' ')\n",
    "    for w in stopwords.words('english'):\n",
    "        text = text.replace(' '+w+' ', ' ')\n",
    "    tokens = re.split(' +', text)\n",
    "    subjects.append(' '.join(tokens))"
   ]
  },
  {
   "cell_type": "code",
   "execution_count": 4,
   "id": "e616983b",
   "metadata": {},
   "outputs": [],
   "source": [
    "hams_l = os.listdir('./hamnspam/spam')\n",
    "spams = []\n",
    "subjects_s = []\n",
    "for f in hams_l:\n",
    "    try:\n",
    "        raw_mail = open(f'./hamnspam/spam/{f}', 'r').read()\n",
    "    except:\n",
    "        continue\n",
    "    mail = email.message_from_string(raw_mail)\n",
    "#     text = mail.get_payload()\n",
    "    text = get_body(mail)\n",
    "    if text == None:\n",
    "        continue\n",
    "    text = text.lower()\n",
    "    for c in string.punctuation+'0123456789\\n':\n",
    "        text = text.replace(c, ' ')\n",
    "    for w in stopwords.words('english'):\n",
    "        text = text.replace(' '+w+' ', ' ')\n",
    "    tokens = re.split(' +', text)\n",
    "    while '' in tokens:\n",
    "        tokens.pop(tokens.index(''))\n",
    "    spams.append(' '.join(tokens))\n",
    "    m = re.search('Subject: *(\\[.*\\])* *(R[eE]:)* *(\\[.*\\])* *(.*)\\n', raw_mail)\n",
    "    if m != None:\n",
    "        text = m.groups()[-1]\n",
    "    else:\n",
    "        text = ' '\n",
    "    text = text.lower()\n",
    "    for c in string.punctuation+'0123456789\\n':\n",
    "        text = text.replace(c, ' ')\n",
    "    for w in stopwords.words('english'):\n",
    "        text = text.replace(' '+w+' ', ' ')\n",
    "    tokens = re.split(' +', text)\n",
    "    subjects_s.append(' '.join(tokens))"
   ]
  },
  {
   "cell_type": "code",
   "execution_count": 5,
   "id": "34d4daf7",
   "metadata": {},
   "outputs": [],
   "source": [
    "df = pd.DataFrame(data={'subject':subjects+subjects_s, 'text':hams+spams, 'class':[0]*len(hams)+[1]*len(spams)})"
   ]
  },
  {
   "cell_type": "code",
   "execution_count": 6,
   "id": "4f59d008",
   "metadata": {},
   "outputs": [
    {
     "name": "stdout",
     "output_type": "stream",
     "text": [
      "<class 'pandas.core.frame.DataFrame'>\n",
      "RangeIndex: 3021 entries, 0 to 3020\n",
      "Data columns (total 3 columns):\n",
      " #   Column   Non-Null Count  Dtype \n",
      "---  ------   --------------  ----- \n",
      " 0   subject  3021 non-null   object\n",
      " 1   text     3021 non-null   object\n",
      " 2   class    3021 non-null   int64 \n",
      "dtypes: int64(1), object(2)\n",
      "memory usage: 70.9+ KB\n"
     ]
    }
   ],
   "source": [
    "df.info()"
   ]
  },
  {
   "cell_type": "code",
   "execution_count": 7,
   "id": "344b4030",
   "metadata": {},
   "outputs": [
    {
     "name": "stdout",
     "output_type": "stream",
     "text": [
      "spam: 470\n",
      "not spam: 2551\n"
     ]
    }
   ],
   "source": [
    "print(f'spam: {len(df[df[\"class\"]==1])}')\n",
    "print(f'not spam: {len(df[df[\"class\"]==0])}')"
   ]
  },
  {
   "cell_type": "code",
   "execution_count": 8,
   "id": "08e2f71c",
   "metadata": {},
   "outputs": [
    {
     "data": {
      "text/html": [
       "<div>\n",
       "<style scoped>\n",
       "    .dataframe tbody tr th:only-of-type {\n",
       "        vertical-align: middle;\n",
       "    }\n",
       "\n",
       "    .dataframe tbody tr th {\n",
       "        vertical-align: top;\n",
       "    }\n",
       "\n",
       "    .dataframe thead th {\n",
       "        text-align: right;\n",
       "    }\n",
       "</style>\n",
       "<table border=\"1\" class=\"dataframe\">\n",
       "  <thead>\n",
       "    <tr style=\"text-align: right;\">\n",
       "      <th></th>\n",
       "      <th>subject</th>\n",
       "      <th>text</th>\n",
       "      <th>class</th>\n",
       "    </tr>\n",
       "  </thead>\n",
       "  <tbody>\n",
       "    <tr>\n",
       "      <th>2536</th>\n",
       "      <td>good earnings report</td>\n",
       "      <td>url http jeremy zawodny com blog archives html...</td>\n",
       "      <td>0</td>\n",
       "    </tr>\n",
       "    <tr>\n",
       "      <th>325</th>\n",
       "      <td>interesting article free software licences</td>\n",
       "      <td>translated article full see end post think don...</td>\n",
       "      <td>0</td>\n",
       "    </tr>\n",
       "    <tr>\n",
       "      <th>317</th>\n",
       "      <td>the absurdities life</td>\n",
       "      <td>so given apparent commonality occurances compa...</td>\n",
       "      <td>0</td>\n",
       "    </tr>\n",
       "    <tr>\n",
       "      <th>174</th>\n",
       "      <td>man kills self home booby traps</td>\n",
       "      <td>url http boingboing net date supplied steve se...</td>\n",
       "      <td>0</td>\n",
       "    </tr>\n",
       "    <tr>\n",
       "      <th>2786</th>\n",
       "      <td>from desk george osawa</td>\n",
       "      <td>nigeria electirc power authority federal secre...</td>\n",
       "      <td>1</td>\n",
       "    </tr>\n",
       "    <tr>\n",
       "      <th>...</th>\n",
       "      <td>...</td>\n",
       "      <td>...</td>\n",
       "      <td>...</td>\n",
       "    </tr>\n",
       "    <tr>\n",
       "      <th>2259</th>\n",
       "      <td>the ozone hole getting smaller leroy getting l...</td>\n",
       "      <td>url http www newsisfree com click date img htt...</td>\n",
       "      <td>0</td>\n",
       "    </tr>\n",
       "    <tr>\n",
       "      <th>298</th>\n",
       "      <td>save planet kill people</td>\n",
       "      <td>martin yes confirming said last message ah see...</td>\n",
       "      <td>0</td>\n",
       "    </tr>\n",
       "    <tr>\n",
       "      <th>416</th>\n",
       "      <td>another low probability event</td>\n",
       "      <td>we met family parent baby group son born minut...</td>\n",
       "      <td>0</td>\n",
       "    </tr>\n",
       "    <tr>\n",
       "      <th>2605</th>\n",
       "      <td>best life insurance lowest cost nticy</td>\n",
       "      <td>html head head body center font face times siz...</td>\n",
       "      <td>1</td>\n",
       "    </tr>\n",
       "    <tr>\n",
       "      <th>1827</th>\n",
       "      <td>all cap cap word subjects</td>\n",
       "      <td>just curious subject line capitalization used ...</td>\n",
       "      <td>0</td>\n",
       "    </tr>\n",
       "  </tbody>\n",
       "</table>\n",
       "<p>3021 rows × 3 columns</p>\n",
       "</div>"
      ],
      "text/plain": [
       "                                                subject  \\\n",
       "2536                               good earnings report   \n",
       "325          interesting article free software licences   \n",
       "317                               the absurdities life    \n",
       "174                     man kills self home booby traps   \n",
       "2786                             from desk george osawa   \n",
       "...                                                 ...   \n",
       "2259  the ozone hole getting smaller leroy getting l...   \n",
       "298                             save planet kill people   \n",
       "416                       another low probability event   \n",
       "2605              best life insurance lowest cost nticy   \n",
       "1827                          all cap cap word subjects   \n",
       "\n",
       "                                                   text  class  \n",
       "2536  url http jeremy zawodny com blog archives html...      0  \n",
       "325   translated article full see end post think don...      0  \n",
       "317   so given apparent commonality occurances compa...      0  \n",
       "174   url http boingboing net date supplied steve se...      0  \n",
       "2786  nigeria electirc power authority federal secre...      1  \n",
       "...                                                 ...    ...  \n",
       "2259  url http www newsisfree com click date img htt...      0  \n",
       "298   martin yes confirming said last message ah see...      0  \n",
       "416   we met family parent baby group son born minut...      0  \n",
       "2605  html head head body center font face times siz...      1  \n",
       "1827  just curious subject line capitalization used ...      0  \n",
       "\n",
       "[3021 rows x 3 columns]"
      ]
     },
     "execution_count": 8,
     "metadata": {},
     "output_type": "execute_result"
    }
   ],
   "source": [
    "df = df.sample(frac=1)\n",
    "df"
   ]
  },
  {
   "cell_type": "markdown",
   "id": "30f07e82",
   "metadata": {},
   "source": [
    "Vectorization:"
   ]
  },
  {
   "cell_type": "code",
   "execution_count": 9,
   "id": "6c885eb6",
   "metadata": {},
   "outputs": [],
   "source": [
    "from sklearn.feature_extraction.text import TfidfVectorizer\n",
    "from scipy import sparse\n",
    "tfidf_vectorizer = TfidfVectorizer(max_df=500, min_df=10)\n",
    "tfidf_text =  tfidf_vectorizer.fit_transform(df['text'])\n",
    "tfidf_subject = tfidf_vectorizer.transform(df['subject'])\n",
    "x = sparse.hstack([tfidf_text, tfidf_subject])"
   ]
  },
  {
   "cell_type": "code",
   "execution_count": 10,
   "id": "ac5550d5",
   "metadata": {},
   "outputs": [
    {
     "data": {
      "text/plain": [
       "(3021, 9462)"
      ]
     },
     "execution_count": 10,
     "metadata": {},
     "output_type": "execute_result"
    }
   ],
   "source": [
    "x.shape"
   ]
  },
  {
   "cell_type": "code",
   "execution_count": 11,
   "id": "888de79d",
   "metadata": {},
   "outputs": [],
   "source": [
    "from sklearn.model_selection import train_test_split\n",
    "x_train, x_test, y_train, y_test = train_test_split(x, df['class'], test_size=0.2)"
   ]
  },
  {
   "cell_type": "markdown",
   "id": "c7b1cd84",
   "metadata": {},
   "source": [
    "Naive Bayes Classifier"
   ]
  },
  {
   "cell_type": "code",
   "execution_count": 12,
   "id": "809541e4",
   "metadata": {},
   "outputs": [
    {
     "data": {
      "text/html": [
       "<style>#sk-container-id-1 {color: black;background-color: white;}#sk-container-id-1 pre{padding: 0;}#sk-container-id-1 div.sk-toggleable {background-color: white;}#sk-container-id-1 label.sk-toggleable__label {cursor: pointer;display: block;width: 100%;margin-bottom: 0;padding: 0.3em;box-sizing: border-box;text-align: center;}#sk-container-id-1 label.sk-toggleable__label-arrow:before {content: \"▸\";float: left;margin-right: 0.25em;color: #696969;}#sk-container-id-1 label.sk-toggleable__label-arrow:hover:before {color: black;}#sk-container-id-1 div.sk-estimator:hover label.sk-toggleable__label-arrow:before {color: black;}#sk-container-id-1 div.sk-toggleable__content {max-height: 0;max-width: 0;overflow: hidden;text-align: left;background-color: #f0f8ff;}#sk-container-id-1 div.sk-toggleable__content pre {margin: 0.2em;color: black;border-radius: 0.25em;background-color: #f0f8ff;}#sk-container-id-1 input.sk-toggleable__control:checked~div.sk-toggleable__content {max-height: 200px;max-width: 100%;overflow: auto;}#sk-container-id-1 input.sk-toggleable__control:checked~label.sk-toggleable__label-arrow:before {content: \"▾\";}#sk-container-id-1 div.sk-estimator input.sk-toggleable__control:checked~label.sk-toggleable__label {background-color: #d4ebff;}#sk-container-id-1 div.sk-label input.sk-toggleable__control:checked~label.sk-toggleable__label {background-color: #d4ebff;}#sk-container-id-1 input.sk-hidden--visually {border: 0;clip: rect(1px 1px 1px 1px);clip: rect(1px, 1px, 1px, 1px);height: 1px;margin: -1px;overflow: hidden;padding: 0;position: absolute;width: 1px;}#sk-container-id-1 div.sk-estimator {font-family: monospace;background-color: #f0f8ff;border: 1px dotted black;border-radius: 0.25em;box-sizing: border-box;margin-bottom: 0.5em;}#sk-container-id-1 div.sk-estimator:hover {background-color: #d4ebff;}#sk-container-id-1 div.sk-parallel-item::after {content: \"\";width: 100%;border-bottom: 1px solid gray;flex-grow: 1;}#sk-container-id-1 div.sk-label:hover label.sk-toggleable__label {background-color: #d4ebff;}#sk-container-id-1 div.sk-serial::before {content: \"\";position: absolute;border-left: 1px solid gray;box-sizing: border-box;top: 0;bottom: 0;left: 50%;z-index: 0;}#sk-container-id-1 div.sk-serial {display: flex;flex-direction: column;align-items: center;background-color: white;padding-right: 0.2em;padding-left: 0.2em;position: relative;}#sk-container-id-1 div.sk-item {position: relative;z-index: 1;}#sk-container-id-1 div.sk-parallel {display: flex;align-items: stretch;justify-content: center;background-color: white;position: relative;}#sk-container-id-1 div.sk-item::before, #sk-container-id-1 div.sk-parallel-item::before {content: \"\";position: absolute;border-left: 1px solid gray;box-sizing: border-box;top: 0;bottom: 0;left: 50%;z-index: -1;}#sk-container-id-1 div.sk-parallel-item {display: flex;flex-direction: column;z-index: 1;position: relative;background-color: white;}#sk-container-id-1 div.sk-parallel-item:first-child::after {align-self: flex-end;width: 50%;}#sk-container-id-1 div.sk-parallel-item:last-child::after {align-self: flex-start;width: 50%;}#sk-container-id-1 div.sk-parallel-item:only-child::after {width: 0;}#sk-container-id-1 div.sk-dashed-wrapped {border: 1px dashed gray;margin: 0 0.4em 0.5em 0.4em;box-sizing: border-box;padding-bottom: 0.4em;background-color: white;}#sk-container-id-1 div.sk-label label {font-family: monospace;font-weight: bold;display: inline-block;line-height: 1.2em;}#sk-container-id-1 div.sk-label-container {text-align: center;}#sk-container-id-1 div.sk-container {/* jupyter's `normalize.less` sets `[hidden] { display: none; }` but bootstrap.min.css set `[hidden] { display: none !important; }` so we also need the `!important` here to be able to override the default hidden behavior on the sphinx rendered scikit-learn.org. See: https://github.com/scikit-learn/scikit-learn/issues/21755 */display: inline-block !important;position: relative;}#sk-container-id-1 div.sk-text-repr-fallback {display: none;}</style><div id=\"sk-container-id-1\" class=\"sk-top-container\"><div class=\"sk-text-repr-fallback\"><pre>MultinomialNB()</pre><b>In a Jupyter environment, please rerun this cell to show the HTML representation or trust the notebook. <br />On GitHub, the HTML representation is unable to render, please try loading this page with nbviewer.org.</b></div><div class=\"sk-container\" hidden><div class=\"sk-item\"><div class=\"sk-estimator sk-toggleable\"><input class=\"sk-toggleable__control sk-hidden--visually\" id=\"sk-estimator-id-1\" type=\"checkbox\" checked><label for=\"sk-estimator-id-1\" class=\"sk-toggleable__label sk-toggleable__label-arrow\">MultinomialNB</label><div class=\"sk-toggleable__content\"><pre>MultinomialNB()</pre></div></div></div></div></div>"
      ],
      "text/plain": [
       "MultinomialNB()"
      ]
     },
     "execution_count": 12,
     "metadata": {},
     "output_type": "execute_result"
    }
   ],
   "source": [
    "from sklearn.naive_bayes import MultinomialNB\n",
    "classifier = MultinomialNB()\n",
    "classifier.fit(x_train, y_train)"
   ]
  },
  {
   "cell_type": "code",
   "execution_count": 13,
   "id": "e15e7b46",
   "metadata": {},
   "outputs": [
    {
     "name": "stdout",
     "output_type": "stream",
     "text": [
      "              precision    recall  f1-score   support\n",
      "\n",
      "           0       0.97      1.00      0.99       505\n",
      "           1       1.00      0.85      0.92       100\n",
      "\n",
      "    accuracy                           0.98       605\n",
      "   macro avg       0.99      0.93      0.95       605\n",
      "weighted avg       0.98      0.98      0.97       605\n",
      "\n",
      "[[505   0]\n",
      " [ 15  85]]\n",
      "0.9752066115702479\n"
     ]
    }
   ],
   "source": [
    "from sklearn.metrics import classification_report,confusion_matrix, accuracy_score\n",
    "pred = classifier.predict(x_test)\n",
    "print(classification_report(y_test,pred))\n",
    "print(confusion_matrix(y_test,pred))\n",
    "print(accuracy_score(y_test,pred))"
   ]
  },
  {
   "cell_type": "markdown",
   "id": "05905a58",
   "metadata": {},
   "source": [
    "KNN Classifier"
   ]
  },
  {
   "cell_type": "code",
   "execution_count": 14,
   "id": "e4482243",
   "metadata": {},
   "outputs": [
    {
     "data": {
      "text/html": [
       "<style>#sk-container-id-2 {color: black;background-color: white;}#sk-container-id-2 pre{padding: 0;}#sk-container-id-2 div.sk-toggleable {background-color: white;}#sk-container-id-2 label.sk-toggleable__label {cursor: pointer;display: block;width: 100%;margin-bottom: 0;padding: 0.3em;box-sizing: border-box;text-align: center;}#sk-container-id-2 label.sk-toggleable__label-arrow:before {content: \"▸\";float: left;margin-right: 0.25em;color: #696969;}#sk-container-id-2 label.sk-toggleable__label-arrow:hover:before {color: black;}#sk-container-id-2 div.sk-estimator:hover label.sk-toggleable__label-arrow:before {color: black;}#sk-container-id-2 div.sk-toggleable__content {max-height: 0;max-width: 0;overflow: hidden;text-align: left;background-color: #f0f8ff;}#sk-container-id-2 div.sk-toggleable__content pre {margin: 0.2em;color: black;border-radius: 0.25em;background-color: #f0f8ff;}#sk-container-id-2 input.sk-toggleable__control:checked~div.sk-toggleable__content {max-height: 200px;max-width: 100%;overflow: auto;}#sk-container-id-2 input.sk-toggleable__control:checked~label.sk-toggleable__label-arrow:before {content: \"▾\";}#sk-container-id-2 div.sk-estimator input.sk-toggleable__control:checked~label.sk-toggleable__label {background-color: #d4ebff;}#sk-container-id-2 div.sk-label input.sk-toggleable__control:checked~label.sk-toggleable__label {background-color: #d4ebff;}#sk-container-id-2 input.sk-hidden--visually {border: 0;clip: rect(1px 1px 1px 1px);clip: rect(1px, 1px, 1px, 1px);height: 1px;margin: -1px;overflow: hidden;padding: 0;position: absolute;width: 1px;}#sk-container-id-2 div.sk-estimator {font-family: monospace;background-color: #f0f8ff;border: 1px dotted black;border-radius: 0.25em;box-sizing: border-box;margin-bottom: 0.5em;}#sk-container-id-2 div.sk-estimator:hover {background-color: #d4ebff;}#sk-container-id-2 div.sk-parallel-item::after {content: \"\";width: 100%;border-bottom: 1px solid gray;flex-grow: 1;}#sk-container-id-2 div.sk-label:hover label.sk-toggleable__label {background-color: #d4ebff;}#sk-container-id-2 div.sk-serial::before {content: \"\";position: absolute;border-left: 1px solid gray;box-sizing: border-box;top: 0;bottom: 0;left: 50%;z-index: 0;}#sk-container-id-2 div.sk-serial {display: flex;flex-direction: column;align-items: center;background-color: white;padding-right: 0.2em;padding-left: 0.2em;position: relative;}#sk-container-id-2 div.sk-item {position: relative;z-index: 1;}#sk-container-id-2 div.sk-parallel {display: flex;align-items: stretch;justify-content: center;background-color: white;position: relative;}#sk-container-id-2 div.sk-item::before, #sk-container-id-2 div.sk-parallel-item::before {content: \"\";position: absolute;border-left: 1px solid gray;box-sizing: border-box;top: 0;bottom: 0;left: 50%;z-index: -1;}#sk-container-id-2 div.sk-parallel-item {display: flex;flex-direction: column;z-index: 1;position: relative;background-color: white;}#sk-container-id-2 div.sk-parallel-item:first-child::after {align-self: flex-end;width: 50%;}#sk-container-id-2 div.sk-parallel-item:last-child::after {align-self: flex-start;width: 50%;}#sk-container-id-2 div.sk-parallel-item:only-child::after {width: 0;}#sk-container-id-2 div.sk-dashed-wrapped {border: 1px dashed gray;margin: 0 0.4em 0.5em 0.4em;box-sizing: border-box;padding-bottom: 0.4em;background-color: white;}#sk-container-id-2 div.sk-label label {font-family: monospace;font-weight: bold;display: inline-block;line-height: 1.2em;}#sk-container-id-2 div.sk-label-container {text-align: center;}#sk-container-id-2 div.sk-container {/* jupyter's `normalize.less` sets `[hidden] { display: none; }` but bootstrap.min.css set `[hidden] { display: none !important; }` so we also need the `!important` here to be able to override the default hidden behavior on the sphinx rendered scikit-learn.org. See: https://github.com/scikit-learn/scikit-learn/issues/21755 */display: inline-block !important;position: relative;}#sk-container-id-2 div.sk-text-repr-fallback {display: none;}</style><div id=\"sk-container-id-2\" class=\"sk-top-container\"><div class=\"sk-text-repr-fallback\"><pre>KNeighborsClassifier()</pre><b>In a Jupyter environment, please rerun this cell to show the HTML representation or trust the notebook. <br />On GitHub, the HTML representation is unable to render, please try loading this page with nbviewer.org.</b></div><div class=\"sk-container\" hidden><div class=\"sk-item\"><div class=\"sk-estimator sk-toggleable\"><input class=\"sk-toggleable__control sk-hidden--visually\" id=\"sk-estimator-id-2\" type=\"checkbox\" checked><label for=\"sk-estimator-id-2\" class=\"sk-toggleable__label sk-toggleable__label-arrow\">KNeighborsClassifier</label><div class=\"sk-toggleable__content\"><pre>KNeighborsClassifier()</pre></div></div></div></div></div>"
      ],
      "text/plain": [
       "KNeighborsClassifier()"
      ]
     },
     "execution_count": 14,
     "metadata": {},
     "output_type": "execute_result"
    }
   ],
   "source": [
    "from sklearn.neighbors import KNeighborsClassifier\n",
    "classifier = KNeighborsClassifier()\n",
    "classifier.fit(x_train, y_train)"
   ]
  },
  {
   "cell_type": "code",
   "execution_count": 15,
   "id": "a1d90190",
   "metadata": {},
   "outputs": [
    {
     "name": "stdout",
     "output_type": "stream",
     "text": [
      "              precision    recall  f1-score   support\n",
      "\n",
      "           0       0.92      1.00      0.96       505\n",
      "           1       0.98      0.59      0.74       100\n",
      "\n",
      "    accuracy                           0.93       605\n",
      "   macro avg       0.95      0.79      0.85       605\n",
      "weighted avg       0.93      0.93      0.92       605\n",
      "\n",
      "[[504   1]\n",
      " [ 41  59]]\n",
      "0.9305785123966942\n"
     ]
    }
   ],
   "source": [
    "pred = classifier.predict(x_test)\n",
    "print(classification_report(y_test,pred))\n",
    "print(confusion_matrix(y_test,pred))\n",
    "print(accuracy_score(y_test,pred))"
   ]
  }
 ],
 "metadata": {
  "kernelspec": {
   "display_name": "Python 3 (ipykernel)",
   "language": "python",
   "name": "python3"
  },
  "language_info": {
   "codemirror_mode": {
    "name": "ipython",
    "version": 3
   },
   "file_extension": ".py",
   "mimetype": "text/x-python",
   "name": "python",
   "nbconvert_exporter": "python",
   "pygments_lexer": "ipython3",
   "version": "3.9.1"
  }
 },
 "nbformat": 4,
 "nbformat_minor": 5
}
